{
 "cells": [
  {
   "cell_type": "code",
   "execution_count": 2,
   "id": "7c7204ec",
   "metadata": {},
   "outputs": [
    {
     "name": "stdout",
     "output_type": "stream",
     "text": [
      "Keyword mapping saved to 'keyword_to_signals.json'\n"
     ]
    }
   ],
   "source": [
    "import json\n",
    "from collections import defaultdict\n",
    "\n",
    "# Load the JSON data\n",
    "with open('../Data/keywords/all_signals_edited.json', 'r') as f:\n",
    "    data = json.load(f)\n",
    "\n",
    "# Initialize mapping dictionary\n",
    "keyword_mapping = {\n",
    "    \"sensory\": defaultdict(list),\n",
    "    \"emotional\": defaultdict(list),\n",
    "    \"associative\": defaultdict(list)\n",
    "}\n",
    "\n",
    "# Process each signal\n",
    "for entry in data:\n",
    "    signal_id = entry[\"signal_id\"]\n",
    "    \n",
    "    for category in [\"sensory\", \"emotional\", \"associative\"]:\n",
    "        keyword_lists = entry.get(category, {}).get(\"keywords\", [])\n",
    "        for keyword_string in keyword_lists:\n",
    "            keywords = [kw.strip() for kw in keyword_string.split(',')]\n",
    "            for keyword in keywords:\n",
    "                if signal_id not in keyword_mapping[category][keyword]:\n",
    "                    keyword_mapping[category][keyword].append(signal_id)\n",
    "\n",
    "# Convert defaultdicts to normal dicts\n",
    "keyword_mapping = {\n",
    "    cat: dict(kw_map) for cat, kw_map in keyword_mapping.items()\n",
    "}\n",
    "\n",
    "# Save to JSON\n",
    "with open('keyword_to_signals.json', 'w') as f:\n",
    "    json.dump(keyword_mapping, f, indent=4)\n",
    "\n",
    "print(\"Keyword mapping saved to 'keyword_to_signals.json'\")"
   ]
  },
  {
   "cell_type": "code",
   "execution_count": null,
   "id": "2c44c807",
   "metadata": {},
   "outputs": [],
   "source": [
    "import json\n",
    "\n",
    "# Load the data\n",
    "with open('../Data/keywords/all_signals_edited.json', 'r') as f:\n",
    "    data = json.load(f)\n",
    "\n",
    "# Result list\n",
    "signal_to_keywords = []\n",
    "\n",
    "# Process each signal entry\n",
    "for entry in data:\n",
    "    signal_id = entry[\"signal_id\"]\n",
    "    signal_entry = {\"signal_id\": signal_id}\n",
    "\n",
    "    for category in [\"sensory\", \"emotional\", \"associative\"]:\n",
    "        keyword_lists = entry.get(category, {}).get(\"keywords\", [])\n",
    "        # Split all comma-separated keywords, strip whitespace, remove duplicates\n",
    "        keywords = set()\n",
    "        for keyword_string in keyword_lists:\n",
    "            keywords.update(kw.strip() for kw in keyword_string.split(','))\n",
    "\n",
    "        signal_entry[category] = sorted(keywords)\n",
    "\n",
    "    signal_to_keywords.append(signal_entry)\n",
    "\n",
    "# Save to a new JSON file\n",
    "with open('signal_to_keywords.json', 'w') as f:\n",
    "    json.dump(signal_to_keywords, f, indent=4)\n",
    "\n",
    "print(\"Signal-to-keywords mapping saved to 'signal_to_keywords.json'\")"
   ]
  }
 ],
 "metadata": {
  "kernelspec": {
   "display_name": "Python 3",
   "language": "python",
   "name": "python3"
  },
  "language_info": {
   "codemirror_mode": {
    "name": "ipython",
    "version": 3
   },
   "file_extension": ".py",
   "mimetype": "text/x-python",
   "name": "python",
   "nbconvert_exporter": "python",
   "pygments_lexer": "ipython3",
   "version": "3.12.4"
  }
 },
 "nbformat": 4,
 "nbformat_minor": 5
}
