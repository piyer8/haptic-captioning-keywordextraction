{
 "cells": [
  {
   "cell_type": "code",
   "execution_count": 4,
   "metadata": {},
   "outputs": [
    {
     "name": "stdout",
     "output_type": "stream",
     "text": [
      "Separate word count JSON file created successfully!\n"
     ]
    }
   ],
   "source": [
    "import json\n",
    "from collections import Counter\n",
    "\n",
    "FILLER_WORDS = {\"the\", \"a\", \"an\", \"is\", \"was\", \"it\", \"its\", \"it's\", \"this\", \"that\", \"i\", \"of\", \"to\", \"set\", \"where\",\n",
    "                \"and\", \"in\", \"on\", \"for\", \"with\", \"at\", \"by\", \"as\", \"we\", \"you\", \"when\", \"me\", \"when\", \"then\",\n",
    "                \"they\", \"he\", \"she\", \"its\", \"there\", \"which\", \"but\", \"or\", \"so\",\n",
    "                \"vibrations\", \"sensation\", \"sensations\", \"feels\", \"felt\", \"like\", \"it\", \"each\", \"for\", \"made\", \"feel\",\n",
    "                \"reminds\", \"reminded\", \"me\", \"my\", \"some\", \"are\", \"has\", \"had\", \"be\", \"na\", \"n/a\", \"n.a.\", \"n.a\"}\n",
    "\n",
    "with open(\"../../keyword-extraction/collated_descriptions.json\", \"r\", encoding=\"utf-8\") as file:\n",
    "    data = json.load(file)\n",
    "\n",
    "#\n",
    "def count_words(descriptions):\n",
    "    word_count = Counter()\n",
    "    for desc in descriptions:\n",
    "        words = desc.lower().split()  # Convert to lowercase and split\n",
    "        filtered_words = [word.strip(\",.!?\") for word in words if word not in FILLER_WORDS]\n",
    "        word_count.update(filtered_words)\n",
    "    return [{\"text\": word, \"value\": count} for word, count in word_count.items()]\n",
    "\n",
    "output_data = []\n",
    "for signal in data:\n",
    "    sensory_word_count = count_words(signal[\"sensory_descriptions\"])\n",
    "    emotional_word_count = count_words(signal[\"emotional_descriptions\"])\n",
    "    associative_word_count = count_words(signal[\"associative_descriptions\"])\n",
    "\n",
    "    signal_word_counts = {\n",
    "        \"signal_index\": signal[\"signal_index\"],\n",
    "        \"sensory_word_count\": sensory_word_count,\n",
    "        \"emotional_word_count\": emotional_word_count,\n",
    "        \"associative_word_count\": associative_word_count\n",
    "    }\n",
    "    output_data.append(signal_word_counts)\n",
    "\n",
    "with open(\"separate_word_counts.json\", \"w\", encoding=\"utf-8\") as outfile:\n",
    "    json.dump(output_data, outfile, indent=4, ensure_ascii=False)\n",
    "\n",
    "print(\"Separate word count JSON file created successfully!\")"
   ]
  }
 ],
 "metadata": {
  "kernelspec": {
   "display_name": "Python 3",
   "language": "python",
   "name": "python3"
  },
  "language_info": {
   "codemirror_mode": {
    "name": "ipython",
    "version": 3
   },
   "file_extension": ".py",
   "mimetype": "text/x-python",
   "name": "python",
   "nbconvert_exporter": "python",
   "pygments_lexer": "ipython3",
   "version": "3.12.4"
  }
 },
 "nbformat": 4,
 "nbformat_minor": 2
}
