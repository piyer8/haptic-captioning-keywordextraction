{
 "cells": [
  {
   "cell_type": "code",
   "execution_count": null,
   "id": "1088d992",
   "metadata": {},
   "outputs": [],
   "source": [
    "import json\n",
    "from collections import defaultdict\n",
    "\n",
    "# Load the JSON data\n",
    "with open('../../Data/keywords/all_signals_edited.json', 'r') as f:\n",
    "    data = json.load(f)\n",
    "\n",
    "# Create a mapping from emotional keywords to signal IDs\n",
    "emotion_to_signals = defaultdict(list)\n",
    "\n",
    "# Iterate over each signal entry\n",
    "for entry in data:\n",
    "    signal_id = entry['signal_id']\n",
    "    emotional_keywords = entry.get('emotional', {}).get('keywords', [])\n",
    "\n",
    "    for keyword_string in emotional_keywords:\n",
    "        # Split keywords by comma and strip whitespace\n",
    "        keywords = [kw.strip() for kw in keyword_string.split(',')]\n",
    "        for keyword in keywords:\n",
    "            if signal_id not in emotion_to_signals[keyword]:\n",
    "                emotion_to_signals[keyword].append(signal_id)\n",
    "\n",
    "# Convert to regular dict for JSON dumping\n",
    "emotion_to_signals = dict(emotion_to_signals)\n",
    "\n",
    "# Save to a JSON file\n",
    "with open('emotional_keyword_mapping.json', 'w') as f:\n",
    "    json.dump(emotion_to_signals, f, indent=4)\n",
    "\n",
    "print(\"Emotional keyword mapping saved to 'emotional_keyword_mapping.json'\")\n"
   ]
  }
 ],
 "metadata": {
  "language_info": {
   "name": "python"
  }
 },
 "nbformat": 4,
 "nbformat_minor": 5
}
