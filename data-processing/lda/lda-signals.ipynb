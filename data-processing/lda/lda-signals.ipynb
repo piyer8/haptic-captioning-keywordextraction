{
 "cells": [
  {
   "cell_type": "code",
   "execution_count": 13,
   "id": "47d03fd8",
   "metadata": {},
   "outputs": [
    {
     "name": "stdout",
     "output_type": "stream",
     "text": [
      "\n",
      "Topic #1:\n",
      "high intensity, faint, aggressive, rhythmical, repeats, shorter, neutral, intervals, calm, rapid, good, shooting, annoying, decreases, pendulum, continuous beats, jagged, higher frequency, discontinuous beat, cycle, short beeps, strength, firm, mixture, three beats, regular interval, slight, no, dropping, dripping, confusing, stimulating, no intervals, intense moving, moderately long, medium strength, no pauses, block, sine wave, long strong, constant frequency, pushing, revving, varying intensities, running, hitting fingers, fading, little gap, gentle, rope, stop, erratic, vibrating pulses, electric, big wave, haptic feedback, bigger, phone vibrates by default, drumming, short low beats, fast sensation, door screeching, little scratch, longer pulse, toy car, alternating bursts, slight gap, scanned, dog chasing, smallest, alarm feedback, high pitched, medium frequencies, struggling engine, every 1 second, inversely, 3 sets of, speaker, irregular intervals, vibrates, music instrument, fraction of second, slow release, march, lingering, face, pumping, alert, unnoticeable, ritual, high point, no delay, background, different strength, short vibrating pulses, phone vibrate mode, somewhat irregular, steady short, sudden rise, smoother\n",
      "\n",
      "Topic #2:\n",
      "intense, regular intervals, repetitive, weird, pulsing, bumpy, not too strong, pulsating, bursts, unpleasant, frequency, exciting, noticeable, lower frequency, sudden, jerk, very low intensity, dripping water, drum beat, passive, small pulses, sensation, small gap, time, motor bike, phone ringing, high level, not too weak, builds up, knocking, long intervals, shallow, on off, car, reverb, hard to notice, ticks, long pulses, short duration, deep, smoothly, time period, slow beats, very intense, circles, loops, not constant, set of 4, single, feeling, big pulse, harder, submerged, motor running, three, short pause, fast-paced, very soft, higher intensity, rumble, beeping, dry, frequent up and downs, constant note, drops, wobbly, spring, siren sensation, dot like, fades down, motor working, twisting handle, concentric circles, strong pulse, intense boost, halted, short beat, short medium intensity, honey bee, fast steps, 2, ups and downs, particular structure, frequency variations, good melody, high intensity waves, small boost, breathing rate, funny, small balls, low to highest base, long ridge frequency, medium-high frequency, deeper beat, little knocks, harsh beats, prominent, irregular sensations, thumping sound, fast leaking water\n",
      "\n",
      "Topic #3:\n",
      "steady, high frequency, slow, alarm, coarse, longer, moving, beat, loud, alarming, prickly, repeat, short intervals, wind, continuous pulse, washing machine, varying, rapid intervals, gritty, gaps, accelerating, lower note, alarm clock, duration, continuous sensation, fast pace, medium pace, uncomfortable, signal, small intervals, slight pauses, fast beats, quick beats, surface, pulsed, muffled, heavy, variable, nudging, buzz, static, long duration, not smooth, complete, grows stronger, same intensity, milliseconds, series, disoriented, no rhythm, specific pattern, relaxing, tap, attention, short breaks, aggressive motion, 3 uniform beats, motor sound, machine-like, construction work, higher frequency note, coming towards you, steady rise, draining, beating sound, fast rhythmic beat, impending doom, repeating continuous intense beats, subtle experience, squeaky, phone buzzing, music flow, 4D movie, burst of frequency, police car siren, slowly increasing, sudden stop, periodic surges, vibrates subtly, nudges, harshly pulled, 3 buzzes, z, unregular intervals, local folk music, paralyze, recurring, grumble, two small beats, burst mode, periodic pulses, shorter gaps, short quick, clutch, round in motion, gritty intense, car engine starting up, time interval, quirky, driving\n",
      "\n",
      "Topic #4:\n",
      "continuous, rhythmic, repeating, weak, beats, heartbeat, uneven, fast paced, discontinuous, familiar, palm, increases, rotating, noise, fuzzy, wave, short pulse, up and down, equal, calming, rhythmic pattern, higher note, gap, very fast, heart beat, jerking, fade-out effect, looped, typing, vibration mode, low rumble, equal gaps, long bursts, almost nothing, silent, not intense, very fast paced, air, 3D, delay, notification, pauses, irritating, high amplitude, neat, medium pulse, slightly, jumping, careful, quick burst, sequential, long heavy, constant alarm, intense scene, different pulses, continuous beep sound, multiple pulses, increasing vibration pattern, reverse, discomforting motion, second beat longer, delayed, fast paced beat, minute, simple rhythm, slightly longer, dragging chair, jump cuts, wearable, throttling engine, few break-points, off period, even, rhythmatic pulse, slowed down, 1-2-1 sequence, drum beats, wavy, droning, continuous manner, frequent, active cautioning, uneven beats, dark flight of stairs, short spikes, short continuous, attentive, builds up speed, increasing strength, continuous flow, fast heart beating, time of occurrence, repetitive pattern, distant object, alien gun, metal, tunes, rise in intensity, waves of, low humming sound\n",
      "\n",
      "Topic #5:\n",
      "pattern, small, soft, rough, random, pulse, sporadic, repeated, medium intensity, high speed, consistent, two beats, combination, increasing, alternating, gradually decreases, amplitude, big, small pause, prolonged, gradually increasing, slow frequency, breaks, frequencies, sense of urgency, continuous rhythm, panicky, high note, short burst, cutting, repetitive patterns, stimulative, white noise, growl, dragged out, continuous buzzes, discomfortable, different, continuous pattern, repeating loop, feeble, unsteady, pressure, constant interval, concert, fast heartbeat, 4 bursts, distinct, in sync, constant rate., softer, electronic, building, ringing, medium long buzzes, unorganized, two long, rebound, draws attention, pulling with force, rotating object, sound tong, delivering dialogue, clapclap, half opened tap, burst of shots, clicking sound, decreasing intensity, discrete signal, morse code, cyclic beats, three step, back, small 12v motor, to and fro, waves of ocean, normal beat, struggling, gradually fades, automatic rifle, catchy, buzzer, sporadic drops, pulsing sounds, not alarming, continuous burst, no cohesion, serious, loss of intensity, spaced out intervals, six step, nervous, wooly, boost, blunt, felt long, exhaling, buttons pressed, steady fall, rapid pulse\n",
      "\n",
      "Topic #6:\n",
      "strong, low intensity, low, intensity, medium, buzzes, grainy, energetic, dull, changing frequency, no pattern, pleasant, loop, inconsistent, dragging, music, quiet, machine, tingling, mix, comfortable, thrilling, fades away, decreased, footsteps, small beats, barely noticeable, ticking, chaotic, humming, rock music, twitching, break, abrupt, repeated pattern, fire alarm, light buzzes, equal duration, long drawn out, ticking pattern, chest, phone alarm, poking, tight, dragged, excitement, sensory version, quick repeating loop, obstructed, three operations, crackly, playing sounds, varied intensity, intense haptics, mildly intense, dimming object, deeper, bike engine, spinning fast, scratches, stressed, hardly feel, speed-braker, quick evenly spaced waves, FPS game, fine, little, vibration rhythm, small bursts, cut, even drumming, music pattern, vibrational beat, left, passing by, energetic rhythm, ambulance sound, listen, dampened pulse, ticking sensation, uplifting tone, suddenly slow down, heart beats, very rhythmic, light wave, distinctive pulses, sensation of uncertainty, kick starting, series of waves, ebbing, steady speed, resonating, periodic sensation, concert noise, water droplets, stutter, no constant rhythm, shaking, natural, discontinuity length\n",
      "\n",
      "Topic #7:\n",
      "long, constant, rhythm, mild, pause, fast, light, buzzing, harsh, soothing, long pulse, equal intervals, frictional, discrete, scratching, short bursts, continuously, not steady, lower, zig zag, sound, interval, elongated, less intense, fades out, drawn out, medium length, on off pattern, persistent, precise, hammering, resistive, small pulse, music beat, increased, starting, cycles, higher, longer beat, eases, long beat, long low intensity, multiple beats, sudden drop, faulty appliance, fading speech, high intensity wave, builds, ringtone, one short, echo, short clicks, teeth, main click, evident, struck intensely, equal intensity, cutting wood, paced beat, long instrumental, content, one and two, feeling in hands, moderately rapid pace, hollow drum, even time intervals, sharp objects, high volume, persisted, high intense, applying brakes, spaced apart buzzes, on and off, immediate stopping, mellows down, sudden pause, two different periods, no jerk, unequal intervals, fast moving body of water, mixed frequencies, melodic, long low frequency, medium burst, small amplitude burst, vibration frequency, drummer, subtle drum beat, low amplitude, singular rhythm, cirscross, rapid beat, continuously changing, dance instructor, growing weaker, ringing bells, very short, someone playing the drums, low-high-low, constant motion\n",
      "\n",
      "Topic #8:\n",
      "short, pulses, smooth, periodic, quick, sharp, high, low frequency, irregular, regular, stronger, vibrating, subtle, repeating pattern, waves, active, stable, two, short pulses, medium frequency, phone vibrating, oscillating, lumpy, decreasing, jaggedy, upbeat, bike, three short, enjoyable, burst, mixer grinder, continuous signal, long beep, heart beating, rolling, touching, saw, increasing frequency, slightly intense, long pause, very strong, steadily, irregular pulse, longest, thrill, uniform, pointy, nudge, speed, very light, race, short buzzes, rotating wheel, long burst, hand, small beep, water drops, zoning out, moderate, barely, mobile phone ringing, combination of three, hard to identify pattern, fast movement, alarm rings, large beat, slow rise, blinking, constant light, heavy metal song, factory siren, workout, buzz notification, small hums, travels forward, metal bowl, sudden bursts, accelerating pattern, restart, droning sensation, compresses, motivates, louder, low notes, pleasurable, echoed, bumps, irregular manner, low to high, something about to happen, slightly long, impatient, constant paced, strong beeps, single beat, short one, growing intensive, prolonged hard buzzing, motor bikes, tree log\n"
     ]
    }
   ],
   "source": [
    "import json\n",
    "from sklearn.feature_extraction.text import CountVectorizer\n",
    "from sklearn.decomposition import LatentDirichletAllocation\n",
    "import matplotlib.pyplot as plt\n",
    "\n",
    "with open('../../Data/keywords/all_signals_edited.json') as f:\n",
    "    signal_data = json.load(f)\n",
    "\n",
    "sensory_phrases = []\n",
    "\n",
    "for signal in signal_data:\n",
    "    phrases = [k.strip() for k in signal['sensory']['keywords'][0].split(',') if k.strip() != '']\n",
    "    sensory_phrases.extend(phrases)\n",
    "\n",
    "vectorizer = CountVectorizer(analyzer='word', tokenizer=lambda x: [x], preprocessor=lambda x: x)\n",
    "X = vectorizer.fit_transform(sensory_phrases)\n",
    "\n",
    "lda = LatentDirichletAllocation(n_components=8, random_state=0)\n",
    "lda.fit(X)\n",
    "\n",
    "def print_topics(model, feature_names, n_top_words=100):\n",
    "    for idx, topic in enumerate(model.components_):\n",
    "        print(f\"\\nTopic #{idx + 1}:\")\n",
    "        top_features = topic.argsort()[:-n_top_words - 1:-1]\n",
    "        print(\", \".join([feature_names[i] for i in top_features]))\n",
    "\n",
    "print_topics(lda, vectorizer.get_feature_names_out())\n",
    "\n"
   ]
  }
 ],
 "metadata": {
  "kernelspec": {
   "display_name": "Python 3",
   "language": "python",
   "name": "python3"
  },
  "language_info": {
   "codemirror_mode": {
    "name": "ipython",
    "version": 3
   },
   "file_extension": ".py",
   "mimetype": "text/x-python",
   "name": "python",
   "nbconvert_exporter": "python",
   "pygments_lexer": "ipython3",
   "version": "3.12.4"
  }
 },
 "nbformat": 4,
 "nbformat_minor": 5
}
