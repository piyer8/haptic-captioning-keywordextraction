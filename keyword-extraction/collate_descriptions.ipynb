{
 "cells": [
  {
   "cell_type": "code",
   "execution_count": 3,
   "metadata": {},
   "outputs": [
    {
     "name": "stdout",
     "output_type": "stream",
     "text": [
      "Collated descriptions saved to collated_descriptions.json\n"
     ]
    }
   ],
   "source": [
    "import json\n",
    "\n",
    "def collate_desc(input_file):\n",
    "    with open(input_file, 'r') as f:\n",
    "        data = json.load(f)\n",
    "\n",
    "    output_file = \"collated_descriptions.json\"\n",
    "    extracted_data = []\n",
    "\n",
    "    for signal_index, entries in data.items():\n",
    "        sensory_descriptions = []\n",
    "        emotional_descriptions = []\n",
    "        associative_descriptions = []\n",
    "\n",
    "        for entry in entries:\n",
    "            sensory_descriptions.append(entry[\"free_text_sensory\"])\n",
    "            emotional_descriptions.append(entry[\"free_text_emotional\"])\n",
    "            associative_descriptions.append(entry[\"free_text_association\"])\n",
    "\n",
    "        extracted_data.append( {\n",
    "            \"signal_index\": signal_index,\n",
    "            \"sensory_descriptions\": sensory_descriptions,\n",
    "            \"emotional_descriptions\": emotional_descriptions,\n",
    "            \"associative_descriptions\": associative_descriptions\n",
    "        })\n",
    "    with open(output_file, 'w') as f:\n",
    "        json.dump(extracted_data, f, indent=4)\n",
    "\n",
    "    print(f\"Collated descriptions saved to {output_file}\")\n",
    "\n",
    "\n",
    "def main():\n",
    "    input_file = \"signal_descriptions.json\"\n",
    "    collate_desc(input_file)\n",
    "\n",
    "if __name__ == \"__main__\":\n",
    "    main()"
   ]
  }
 ],
 "metadata": {
  "kernelspec": {
   "display_name": "Python 3",
   "language": "python",
   "name": "python3"
  },
  "language_info": {
   "codemirror_mode": {
    "name": "ipython",
    "version": 3
   },
   "file_extension": ".py",
   "mimetype": "text/x-python",
   "name": "python",
   "nbconvert_exporter": "python",
   "pygments_lexer": "ipython3",
   "version": "3.12.4"
  }
 },
 "nbformat": 4,
 "nbformat_minor": 2
}
