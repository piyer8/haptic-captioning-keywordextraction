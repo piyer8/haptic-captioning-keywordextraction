{
 "cells": [
  {
   "cell_type": "code",
   "execution_count": 3,
   "metadata": {},
   "outputs": [
    {
     "name": "stdout",
     "output_type": "stream",
     "text": [
      "JSON files created successfully!\n"
     ]
    }
   ],
   "source": [
    "import json\n",
    "from collections import defaultdict\n",
    "\n",
    "def isValid(word):\n",
    "    return word != 'vibrations' and word != 'sensation' and word != 'vibration'\n",
    "\n",
    "def extract_keywords(data):\n",
    "    sensory_map = defaultdict(list)\n",
    "    emotional_map = defaultdict(list)\n",
    "    associative_map = defaultdict(list)\n",
    "    sensory_keywords = set()\n",
    "    emotional_keywords = set()\n",
    "    associative_keywords = set()\n",
    "    for entry in data:\n",
    "        signal_id = entry[\"signal_id\"]\n",
    "        \n",
    "        for keyword in entry[\"sensory\"][\"keywords\"]:\n",
    "            words = [w.strip() for w in keyword.split(\",\")]\n",
    "            for word in words:\n",
    "                sensory_keywords.add(word)\n",
    "                if isValid(word):\n",
    "                    sensory_map[word].append(signal_id)\n",
    "                \n",
    "        for keyword in entry[\"emotional\"][\"keywords\"]:\n",
    "            words = [w.strip() for w in keyword.split(\",\")]\n",
    "            for word in words:\n",
    "                emotional_keywords.add(word)\n",
    "                if isValid(word):\n",
    "                    emotional_map[word].append(signal_id)\n",
    "                \n",
    "        for keyword in entry[\"associative\"][\"keywords\"]:\n",
    "            words = [w.strip() for w in keyword.split(\",\")]\n",
    "            for word in words:\n",
    "                associative_keywords.add(word)\n",
    "                if isValid(word):\n",
    "                    associative_map[word].append(signal_id)\n",
    "    \n",
    "    save_json(\"all_keywords.json\", \n",
    "              {\n",
    "                  \"sensory_keywords\": list(sensory_keywords),\n",
    "                  \"emotional_keywords\": list(emotional_keywords),\n",
    "                  \"associative_keywords\": list(associative_keywords)\n",
    "              });\n",
    "    \n",
    "    return sensory_map, emotional_map, associative_map\n",
    "\n",
    "def save_json(filename, data):\n",
    "    with open(filename, \"w\") as f:\n",
    "        json.dump(data, f, indent=4)\n",
    "\n",
    "def main():\n",
    "    with open(\"./all_signals.json\", \"r\") as f:\n",
    "        data = json.load(f)\n",
    "    \n",
    "    sensory_map, emotional_map, associative_map = extract_keywords(data)\n",
    "    \n",
    "    #save_json(\"sensory_keywords.json\", sensory_map)\n",
    "    #save_json(\"emotional_keywords.json\", emotional_map)\n",
    "    #save_json(\"associative_keywords.json\", associative_map)\n",
    "    \n",
    "    print(\"JSON files created successfully!\")\n",
    "\n",
    "if __name__ == \"__main__\":\n",
    "    main()"
   ]
  }
 ],
 "metadata": {
  "kernelspec": {
   "display_name": "Python 3",
   "language": "python",
   "name": "python3"
  },
  "language_info": {
   "codemirror_mode": {
    "name": "ipython",
    "version": 3
   },
   "file_extension": ".py",
   "mimetype": "text/x-python",
   "name": "python",
   "nbconvert_exporter": "python",
   "pygments_lexer": "ipython3",
   "version": "3.12.4"
  }
 },
 "nbformat": 4,
 "nbformat_minor": 2
}
